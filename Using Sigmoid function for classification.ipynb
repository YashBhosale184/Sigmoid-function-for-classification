{
 "cells": [
  {
   "cell_type": "code",
   "execution_count": 1,
   "metadata": {},
   "outputs": [],
   "source": [
    "import numpy as np\n",
    "from sklearn import datasets\n",
    "from sklearn.model_selection import train_test_split\n",
    "from sklearn.preprocessing import StandardScaler"
   ]
  },
  {
   "cell_type": "code",
   "execution_count": 2,
   "metadata": {},
   "outputs": [],
   "source": [
    "wine = datasets.load_wine()\n",
    "X = wine.data\n",
    "y = wine.target"
   ]
  },
  {
   "cell_type": "code",
   "execution_count": 4,
   "metadata": {},
   "outputs": [],
   "source": [
    "#Binary classification: is it class 0, or not?\n",
    "y_binary = (y == 0).astype(int)"
   ]
  },
  {
   "cell_type": "code",
   "execution_count": 5,
   "metadata": {},
   "outputs": [],
   "source": [
    "X_train, X_test, y_train, y_test = train_test_split(X, y_binary, test_size=0.2, random_state=42)"
   ]
  },
  {
   "cell_type": "code",
   "execution_count": 6,
   "metadata": {},
   "outputs": [],
   "source": [
    "scaler = StandardScaler()\n",
    "X_train_scaled = scaler.fit_transform(X_train)\n",
    "X_test_scaled = scaler.transform(X_test)"
   ]
  },
  {
   "cell_type": "code",
   "execution_count": 7,
   "metadata": {},
   "outputs": [],
   "source": [
    "#Sigmoid Function\n",
    "def sigmoid(z):\n",
    "    return 1 / (1 + np.exp(-z))\n",
    "\n",
    "#Using Logistic Regression\n",
    "def logistic_regression(X, y, learning_rate=0.01, epochs=1000):\n",
    "    m, n = X.shape  # m: number of samples, n: number of features\n",
    "    weights = np.zeros(n)\n",
    "    bias = 0\n",
    "\n",
    "    for _ in range(epochs):\n",
    "        linear_model = np.dot(X, weights) + bias\n",
    "        predictions = sigmoid(linear_model)\n",
    "\n",
    "        # Compute gradients\n",
    "        dw = (1 / m) * np.dot(X.T, (predictions - y))\n",
    "        db = (1 / m) * np.sum(predictions - y)\n",
    "\n",
    "        # Update weights and bias\n",
    "        weights -= learning_rate * dw\n",
    "        bias -= learning_rate * db\n",
    "\n",
    "    return weights, bias\n"
   ]
  },
  {
   "cell_type": "code",
   "execution_count": 8,
   "metadata": {},
   "outputs": [],
   "source": [
    "# 6. Train the Model\n",
    "weights, bias = logistic_regression(X_train_scaled, y_train)\n",
    "\n",
    "# 7. Make Predictions\n",
    "def predict(X, weights, bias, threshold=0.5):\n",
    "    linear_model = np.dot(X, weights) + bias\n",
    "    predictions = sigmoid(linear_model)\n",
    "    return (predictions >= threshold).astype(int)\n",
    "\n",
    "y_pred = predict(X_test_scaled, weights, bias)"
   ]
  },
  {
   "cell_type": "code",
   "execution_count": 9,
   "metadata": {},
   "outputs": [
    {
     "name": "stdout",
     "output_type": "stream",
     "text": [
      "Accuracy: 1.0\n",
      "Prediction Probability for first test wine: 0.9471170125153637\n",
      "Predicted class for first test wine: [1]\n",
      "Sklearn Logistic Regression Accuracy: 1.0\n"
     ]
    }
   ],
   "source": [
    "#Evaluate the Model\n",
    "def accuracy(y_true, y_pred):\n",
    "    return np.mean(y_true == y_pred)\n",
    "\n",
    "print(f\"Accuracy: {accuracy(y_test, y_pred)}\")\n",
    "\n",
    "#Example of prediction for a single instance\n",
    "example_wine = X_test_scaled[0]\n",
    "prediction_probability = sigmoid(np.dot(example_wine, weights) + bias)\n",
    "prediction_class = predict(example_wine.reshape(1, -1), weights, bias)\n",
    "\n",
    "print(f\"Prediction Probability for first test wine: {prediction_probability}\")\n",
    "print(f\"Predicted class for first test wine: {prediction_class}\")\n",
    "\n",
    "#Using sklearn's LogisticRegression for comparison.\n",
    "from sklearn.linear_model import LogisticRegression\n",
    "sk_model = LogisticRegression()\n",
    "sk_model.fit(X_train_scaled, y_train)\n",
    "sk_predictions = sk_model.predict(X_test_scaled)\n",
    "print(f\"Sklearn Logistic Regression Accuracy: {accuracy(y_test, sk_predictions)}\")"
   ]
  }
 ],
 "metadata": {
  "kernelspec": {
   "display_name": "Python 3",
   "language": "python",
   "name": "python3"
  },
  "language_info": {
   "codemirror_mode": {
    "name": "ipython",
    "version": 3
   },
   "file_extension": ".py",
   "mimetype": "text/x-python",
   "name": "python",
   "nbconvert_exporter": "python",
   "pygments_lexer": "ipython3",
   "version": "3.12.6"
  }
 },
 "nbformat": 4,
 "nbformat_minor": 2
}
